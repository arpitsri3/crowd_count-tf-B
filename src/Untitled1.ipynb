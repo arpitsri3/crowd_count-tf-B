{
 "cells": [
  {
   "cell_type": "code",
   "execution_count": 1,
   "metadata": {},
   "outputs": [
    {
     "name": "stderr",
     "output_type": "stream",
     "text": [
      "/home/carnd/anaconda3/envs/carnd-term1/lib/python3.5/site-packages/h5py/__init__.py:34: FutureWarning: Conversion of the second argument of issubdtype from `float` to `np.floating` is deprecated. In future, it will be treated as `np.float64 == np.dtype(float).type`.\n",
      "  from ._conv import register_converters as _register_converters\n"
     ]
    }
   ],
   "source": [
    "import tensorflow as tf\n",
    "import numpy as np\n",
    "import cv2\n",
    "import argparse\n",
    "import os\n",
    "import re\n",
    "from IPython.display import clear_output, Image, display, HTML\n",
    "from moviepy.editor import VideoFileClip\n",
    "from pyheatmap.heatmap import HeatMap"
   ]
  },
  {
   "cell_type": "code",
   "execution_count": 7,
   "metadata": {
    "collapsed": true
   },
   "outputs": [],
   "source": [
    "def heatmap(den, img):\n",
    "    den_resized = np.zeros((den.shape[0] * 4, den.shape[1] * 4))\n",
    "    for i in range(den_resized.shape[0]):\n",
    "        for j in range(den_resized.shape[1]):\n",
    "            den_resized[i][j] = den[int(i / 4)][int(j / 4)] / 16\n",
    "    den = den_resized\n",
    "    \n",
    "    count = np.sum(den)\n",
    "    den = den * 10 / np.max(den)\n",
    "    \n",
    "    w = img.shape[1]\n",
    "    h = img.shape[0]\n",
    "     \n",
    "    data = []\n",
    "    for j in range(len(den)):\n",
    "        for i in range(len(den[0])):\n",
    "            for k in range(int(den[j][i])):\n",
    "                data.append([i + 1, j + 1])\n",
    "    hm = HeatMap(data, base = './test/img.jpg')\n",
    "    return hm"
   ]
  },
  {
   "cell_type": "code",
   "execution_count": 11,
   "metadata": {},
   "outputs": [
    {
     "name": "stdout",
     "output_type": "stream",
     "text": [
      "INFO:tensorflow:Restoring parameters from ./model.ckpt\n",
      "Frames Per Second: 30 \n",
      "\n"
     ]
    },
    {
     "ename": "KeyboardInterrupt",
     "evalue": "",
     "output_type": "error",
     "traceback": [
      "\u001b[0;31m---------------------------------------------------------------------------\u001b[0m",
      "\u001b[0;31mKeyboardInterrupt\u001b[0m                         Traceback (most recent call last)",
      "\u001b[0;32m<ipython-input-11-d3b6cba86775>\u001b[0m in \u001b[0;36m<module>\u001b[0;34m()\u001b[0m\n\u001b[1;32m     38\u001b[0m                 \u001b[0my_p_den\u001b[0m \u001b[0;34m=\u001b[0m \u001b[0mnp\u001b[0m\u001b[0;34m.\u001b[0m\u001b[0mreshape\u001b[0m\u001b[0;34m(\u001b[0m\u001b[0my_pred\u001b[0m\u001b[0;34m,\u001b[0m \u001b[0;34m(\u001b[0m\u001b[0my_pred\u001b[0m\u001b[0;34m.\u001b[0m\u001b[0mshape\u001b[0m\u001b[0;34m[\u001b[0m\u001b[0;36m1\u001b[0m\u001b[0;34m]\u001b[0m\u001b[0;34m,\u001b[0m \u001b[0my_pred\u001b[0m\u001b[0;34m.\u001b[0m\u001b[0mshape\u001b[0m\u001b[0;34m[\u001b[0m\u001b[0;36m2\u001b[0m\u001b[0;34m]\u001b[0m\u001b[0;34m)\u001b[0m\u001b[0;34m)\u001b[0m\u001b[0;34m\u001b[0m\u001b[0m\n\u001b[1;32m     39\u001b[0m                 \u001b[0mhm\u001b[0m \u001b[0;34m=\u001b[0m \u001b[0mheatmap\u001b[0m\u001b[0;34m(\u001b[0m\u001b[0my_p_den\u001b[0m\u001b[0;34m,\u001b[0m \u001b[0mim\u001b[0m\u001b[0;34m)\u001b[0m\u001b[0;34m\u001b[0m\u001b[0m\n\u001b[0;32m---> 40\u001b[0;31m                 \u001b[0mhm\u001b[0m\u001b[0;34m.\u001b[0m\u001b[0mheatmap\u001b[0m\u001b[0;34m(\u001b[0m\u001b[0msave_as\u001b[0m \u001b[0;34m=\u001b[0m \u001b[0;34m'./test/img2.jpg'\u001b[0m\u001b[0;34m)\u001b[0m\u001b[0;34m\u001b[0m\u001b[0m\n\u001b[0m\u001b[1;32m     41\u001b[0m                 \u001b[0mframe\u001b[0m \u001b[0;34m=\u001b[0m \u001b[0mcv2\u001b[0m\u001b[0;34m.\u001b[0m\u001b[0mimread\u001b[0m\u001b[0;34m(\u001b[0m\u001b[0;34m'./test/img2.jpg'\u001b[0m\u001b[0;34m)\u001b[0m\u001b[0;34m\u001b[0m\u001b[0m\n\u001b[1;32m     42\u001b[0m                 \u001b[0;32mif\u001b[0m \u001b[0;32mnot\u001b[0m \u001b[0mcc\u001b[0m \u001b[0;32mis\u001b[0m \u001b[0;32mNone\u001b[0m\u001b[0;34m:\u001b[0m\u001b[0;34m\u001b[0m\u001b[0m\n",
      "\u001b[0;32m/home/carnd/anaconda3/envs/carnd-term1/lib/python3.5/site-packages/pyheatmap/heatmap.py\u001b[0m in \u001b[0;36mheatmap\u001b[0;34m(self, save_as, base, data, r)\u001b[0m\n\u001b[1;32m    216\u001b[0m                 \u001b[0;32mcontinue\u001b[0m\u001b[0;34m\u001b[0m\u001b[0m\n\u001b[1;32m    217\u001b[0m \u001b[0;34m\u001b[0m\u001b[0m\n\u001b[0;32m--> 218\u001b[0;31m             \u001b[0mself\u001b[0m\u001b[0;34m.\u001b[0m\u001b[0m__heat\u001b[0m\u001b[0;34m(\u001b[0m\u001b[0mheat_data\u001b[0m\u001b[0;34m,\u001b[0m \u001b[0mx\u001b[0m\u001b[0;34m,\u001b[0m \u001b[0my\u001b[0m\u001b[0;34m,\u001b[0m \u001b[0mn\u001b[0m\u001b[0;34m,\u001b[0m \u001b[0mcircle\u001b[0m\u001b[0;34m)\u001b[0m\u001b[0;34m\u001b[0m\u001b[0m\n\u001b[0m\u001b[1;32m    219\u001b[0m \u001b[0;34m\u001b[0m\u001b[0m\n\u001b[1;32m    220\u001b[0m         \u001b[0mself\u001b[0m\u001b[0;34m.\u001b[0m\u001b[0m__paint_heat\u001b[0m\u001b[0;34m(\u001b[0m\u001b[0mheat_data\u001b[0m\u001b[0;34m,\u001b[0m \u001b[0mcf\u001b[0m\u001b[0;34m.\u001b[0m\u001b[0mmk_colors\u001b[0m\u001b[0;34m(\u001b[0m\u001b[0;34m)\u001b[0m\u001b[0;34m)\u001b[0m\u001b[0;34m\u001b[0m\u001b[0m\n",
      "\u001b[0;32m/home/carnd/anaconda3/envs/carnd-term1/lib/python3.5/site-packages/pyheatmap/heatmap.py\u001b[0m in \u001b[0;36m__heat\u001b[0;34m(self, heat_data, x, y, n, template)\u001b[0m\n\u001b[1;32m    126\u001b[0m             \u001b[0mp2\u001b[0m \u001b[0;34m=\u001b[0m \u001b[0mp\u001b[0m \u001b[0;34m+\u001b[0m \u001b[0mip\u001b[0m\u001b[0;34m\u001b[0m\u001b[0m\n\u001b[1;32m    127\u001b[0m             \u001b[0;32mif\u001b[0m \u001b[0;36m0\u001b[0m \u001b[0;34m<=\u001b[0m \u001b[0mp2\u001b[0m \u001b[0;34m<\u001b[0m \u001b[0ml\u001b[0m\u001b[0;34m:\u001b[0m\u001b[0;34m\u001b[0m\u001b[0m\n\u001b[0;32m--> 128\u001b[0;31m                 \u001b[0mheat_data\u001b[0m\u001b[0;34m[\u001b[0m\u001b[0mp2\u001b[0m\u001b[0;34m]\u001b[0m \u001b[0;34m+=\u001b[0m \u001b[0miv\u001b[0m \u001b[0;34m*\u001b[0m \u001b[0mn\u001b[0m\u001b[0;34m\u001b[0m\u001b[0m\n\u001b[0m\u001b[1;32m    129\u001b[0m \u001b[0;34m\u001b[0m\u001b[0m\n\u001b[1;32m    130\u001b[0m     \u001b[0;32mdef\u001b[0m \u001b[0m__paint_heat\u001b[0m\u001b[0;34m(\u001b[0m\u001b[0mself\u001b[0m\u001b[0;34m,\u001b[0m \u001b[0mheat_data\u001b[0m\u001b[0;34m,\u001b[0m \u001b[0mcolors\u001b[0m\u001b[0;34m)\u001b[0m\u001b[0;34m:\u001b[0m\u001b[0;34m\u001b[0m\u001b[0m\n",
      "\u001b[0;31mKeyboardInterrupt\u001b[0m: "
     ]
    }
   ],
   "source": [
    "font = cv2.FONT_HERSHEY_SIMPLEX\n",
    "with tf.Session() as sess:\n",
    "        feed_vid = cv2.VideoCapture(\"crowd10.mp4\")\n",
    "        success = True\n",
    "        if success:\n",
    "            success, im = feed_vid.read()\n",
    "            #print(\"success-\", success)\n",
    "            new_saver = tf.train.import_meta_graph(\"./model.ckpt.meta\")\n",
    "            new_saver.restore(sess, tf.train.latest_checkpoint(\"./\"))\n",
    "            graph = tf.get_default_graph()\n",
    "            op_to_restore = graph.get_tensor_by_name(\"add_12:0\")\n",
    "            x = graph.get_tensor_by_name('Placeholder:0')\n",
    "            fps = feed_vid.get(cv2.CAP_PROP_FPS)\n",
    "            fps = np.int32(fps)\n",
    "            print(\"Frames Per Second:\",fps,\"\\n\")\n",
    "            counter = 0\n",
    "            avg = 0\n",
    "            #imlist = []\n",
    "            file = open(\"Count_per_sec_Vid8_1.txt\", \"w\")\n",
    "            if success:\n",
    "                out = cv2.VideoWriter('output_vid.mp4',cv2.VideoWriter_fourcc('M','J','P','G'), fps, (im.shape[0],im.shape[1]))\n",
    "            cc = None\n",
    "            while success: \n",
    "                counter +=1\n",
    "                cv2.imwrite('./test/img.jpg',im)\n",
    "                img = np.copy(im)\n",
    "                img = cv2.cvtColor(img, cv2.COLOR_RGB2GRAY)\n",
    "                img = np.array(img)\n",
    "                img = (img - 127.5) / 128\n",
    "                #print(img.shape)\n",
    "                x_in = np.reshape(img, (1, img.shape[0], img.shape[1], 1))\n",
    "                x_in = np.float32(x_in)\n",
    "                y_pred = []\n",
    "                y_pred = sess.run(op_to_restore, feed_dict={x: x_in})\n",
    "                sum =np.absolute(np.int32(np.sum(y_pred)))\n",
    "                '''if sum - 15 <= 0:\n",
    "                    sum += 20'''\n",
    "                y_p_den = np.reshape(y_pred, (y_pred.shape[1], y_pred.shape[2]))\n",
    "                hm = heatmap(y_p_den, im)\n",
    "                hm.heatmap(save_as = './test/img2.jpg')\n",
    "                frame = cv2.imread('./test/img2.jpg')\n",
    "                if not cc is None:\n",
    "                    text=str(cc)+' people detected'\n",
    "                    cv2.putText(hm, text, (10, 10), font, 0.5, (0, 0, 0), 2, cv2.LINE_AA)\n",
    "                if counter<=fps:\n",
    "                    avg += sum\n",
    "                    out.write(frame)\n",
    "                else:\n",
    "                    counter =0 \n",
    "                    avg = np.int32(avg/fps)\n",
    "                    print(avg)\n",
    "                    cc=avg\n",
    "                    file.write(str(avg))\n",
    "                    file.write(\"\\n\")\n",
    "                    avg = 0\n",
    "                    avg += sum\n",
    "                    out.write(frame)\n",
    "                #count = \"Crowd Count - \" + str(sum)\n",
    "                #counter += 1\n",
    "                #cv2.putText(im, count, (0, 0), font, 0.5, (0, 0, 0), 2, cv2.LINE_AA)\n",
    "                #imlist.append(im)\n",
    "                '''if counter==10:\n",
    "                    for e in imlist:\n",
    "                        cv2.imshow('Crowd Count', im)\n",
    "                    imlist = []\n",
    "                    counter = 0'''\n",
    "                success, im = feed_vid.read()\n",
    "        file.close()\n",
    "        feed_vid.release()\n",
    "        out.release()\n",
    "        cv2.destroyAllWindows()"
   ]
  },
  {
   "cell_type": "code",
   "execution_count": null,
   "metadata": {
    "collapsed": true
   },
   "outputs": [],
   "source": []
  }
 ],
 "metadata": {
  "kernelspec": {
   "display_name": "Python 3",
   "language": "python",
   "name": "python3"
  },
  "language_info": {
   "codemirror_mode": {
    "name": "ipython",
    "version": 3
   },
   "file_extension": ".py",
   "mimetype": "text/x-python",
   "name": "python",
   "nbconvert_exporter": "python",
   "pygments_lexer": "ipython3",
   "version": "3.5.2"
  }
 },
 "nbformat": 4,
 "nbformat_minor": 2
}
